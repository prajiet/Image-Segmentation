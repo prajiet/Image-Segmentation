{
 "cells": [
  {
   "cell_type": "code",
   "execution_count": 47,
   "metadata": {},
   "outputs": [],
   "source": [
    "import cv2\n",
    "import numpy as np\n",
    "import matplotlib.pyplot as plt\n",
    "%matplotlib inline"
   ]
  },
  {
   "cell_type": "code",
   "execution_count": 48,
   "metadata": {},
   "outputs": [],
   "source": [
    "sample=cv2.imread('8068.jpg',0)"
   ]
  },
  {
   "cell_type": "code",
   "execution_count": 49,
   "metadata": {},
   "outputs": [],
   "source": [
    "def conv_transform(image):\n",
    "    image_copy=image.copy()\n",
    "    for i in range(image.shape[0]):\n",
    "        for j in range(image.shape[1]):\n",
    "            image_copy[i][j]=image[image.shape[0]-i-1][image.shape[1]-j-1]\n",
    "    return image_copy"
   ]
  },
  {
   "cell_type": "code",
   "execution_count": 50,
   "metadata": {},
   "outputs": [],
   "source": [
    "def conv(image,kernel):\n",
    "    kernel=conv_transform(kernel)\n",
    "    image_h=image.shape[0]\n",
    "    image_w=image.shape[1]\n",
    "    \n",
    "    kernel_h=kernel.shape[0]\n",
    "    kernel_w=kernel.shape[1]\n",
    "    \n",
    "    h=kernel_h//2\n",
    "    w=kernel_w//2\n",
    "    \n",
    "    image_conv=np.zeros(image.shape)\n",
    "    for i in range(h,image_h-h):\n",
    "        for j in range(w,image_w-w):\n",
    "            sum=0\n",
    "            for m in range(kernel_h):\n",
    "                for n in range(kernel_w):\n",
    "                    sum=(sum + kernel[m][n]*image[i-h+m][j-w+n])\n",
    "            image_conv[i][j]=sum\n",
    "    return image_conv\n",
    "                "
   ]
  },
  {
   "cell_type": "code",
   "execution_count": 51,
   "metadata": {},
   "outputs": [],
   "source": [
    "def norm(img1,img2):\n",
    "    img_copy=np.zeros(img1.shape)\n",
    "    for i in range(img1.shape[0]):\n",
    "        for j in range(img1.shape[1]):\n",
    "            q=((img1[i][j]**2) + (img2[i][j]**2))**(1/2)\n",
    "            if(q>220):  #play around with threshold to get better results\n",
    "                img_copy[i][j]=255\n",
    "            else:\n",
    "                img_copy[i][j]=0\n",
    "    return img_copy"
   ]
  },
  {
   "cell_type": "code",
   "execution_count": 52,
   "metadata": {
    "scrolled": true
   },
   "outputs": [
    {
     "data": {
      "text/plain": [
       "<matplotlib.image.AxesImage at 0x1df4308b400>"
      ]
     },
     "execution_count": 52,
     "metadata": {},
     "output_type": "execute_result"
    },
    {
     "data": {
      "image/png": "[encoded data removed]",
      "text/plain": [
       "<Figure size 432x288 with 1 Axes>"
      ]
     },
     "metadata": {},
     "output_type": "display_data"
    }
   ],
   "source": [
    "kernel=np.zeros(shape=(3,3))\n",
    "kernel[0,0]= -1\n",
    "kernel[0,1]= -2\n",
    "kernel[0,2]= -1\n",
    "kernel[1,0]= 0\n",
    "kernel[1,1]= 0\n",
    "kernel[1,2]= 0\n",
    "kernel[2,0]= 1\n",
    "kernel[2,1]= 2\n",
    "kernel[2,2]= 1\n",
    "gy=conv(sample,kernel)\n",
    "\n",
    "kernel[0,0]= -1\n",
    "kernel[0,1]= 0\n",
    "kernel[0,2]= 1\n",
    "kernel[1,0]= -1\n",
    "kernel[1,1]= 0\n",
    "kernel[1,2]= 1\n",
    "kernel[2,0]= -2\n",
    "kernel[2,1]= 0\n",
    "kernel[2,2]= 2\n",
    "gx=conv(sample,kernel)\n",
    "\n",
    "g_sobel=norm(gx,gy)\n",
    "\n",
    "plt.imshow(g_sobel,'gray')\n"
   ]
  },
  {
   "cell_type": "code",
   "execution_count": null,
   "metadata": {},
   "outputs": [],
   "source": []
  },
  {
   "cell_type": "code",
   "execution_count": null,
   "metadata": {},
   "outputs": [],
   "source": []
  },
  {
   "cell_type": "code",
   "execution_count": null,
   "metadata": {},
   "outputs": [],
   "source": []
  },
  {
   "cell_type": "code",
   "execution_count": null,
   "metadata": {},
   "outputs": [],
   "source": []
  },
  {
   "cell_type": "code",
   "execution_count": null,
   "metadata": {},
   "outputs": [],
   "source": []
  },
  {
   "cell_type": "code",
   "execution_count": null,
   "metadata": {},
   "outputs": [],
   "source": []
  },
  {
   "cell_type": "code",
   "execution_count": null,
   "metadata": {
    "scrolled": true
   },
   "outputs": [],
   "source": []
  },
  {
   "cell_type": "code",
   "execution_count": null,
   "metadata": {},
   "outputs": [],
   "source": []
  },
  {
   "cell_type": "code",
   "execution_count": null,
   "metadata": {},
   "outputs": [],
   "source": []
  },
  {
   "cell_type": "code",
   "execution_count": null,
   "metadata": {},
   "outputs": [],
   "source": []
  }
 ],
 "metadata": {
  "kernelspec": {
   "display_name": "Python 3",
   "language": "python",
   "name": "python3"
  },
  "language_info": {
   "codemirror_mode": {
    "name": "ipython",
    "version": 3
   },
   "file_extension": ".py",
   "mimetype": "text/x-python",
   "name": "python",
   "nbconvert_exporter": "python",
   "pygments_lexer": "ipython3",
   "version": "3.6.5"
  }
 },
 "nbformat": 4,
 "nbformat_minor": 2
}
